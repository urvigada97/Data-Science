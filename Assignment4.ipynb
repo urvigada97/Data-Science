{
 "cells": [
  {
   "cell_type": "markdown",
   "metadata": {},
   "source": [
    "1.1 Write a Python Program(with class concepts) to find the area of the triangle using the below  formula. \n",
    "area = (s*(s-a)*(s-b)*(s-c)) ** 0.5 \n",
    "Function to take the length of the sides of triangle from user should be defined in the parent  class and function to calculate the area should be defined in subclass."
   ]
  },
  {
   "cell_type": "code",
   "execution_count": 22,
   "metadata": {},
   "outputs": [],
   "source": [
    "class Triangle:\n",
    "    def takeInput(self):\n",
    "        self.a = int(input('Enter length of side one: '))\n",
    "        self.b = int(input('Enter length of side one: '))\n",
    "        self.c = int(input('Enter length of side one: '))\n",
    "class Area(Triangle):\n",
    "    def calculatePerimeter(self):\n",
    "        self.s = (self.a+self.b+self.c)/2\n",
    "        print(self.s)\n",
    "    def calculateArea(self):\n",
    "        self.area1 = (self.s*(self.s-self.a)*(self.s-self.b)*(self.s-self.c)) ** 0.5\n",
    "        print('Area of Triangle is: {}'.format(self.area1))"
   ]
  },
  {
   "cell_type": "code",
   "execution_count": 23,
   "metadata": {},
   "outputs": [
    {
     "name": "stdout",
     "output_type": "stream",
     "text": [
      "Enter length of side one: 5\n",
      "Enter length of side one: 6\n",
      "Enter length of side one: 7\n",
      "9.0\n",
      "Area of Triangle is: 14.696938456699069\n"
     ]
    }
   ],
   "source": [
    "areaObj = Area()\n",
    "areaObj.takeInput()\n",
    "areaObj.calculatePerimeter()\n",
    "areaObj.calculateArea()"
   ]
  },
  {
   "cell_type": "markdown",
   "metadata": {},
   "source": [
    "Write a function filter_long_words() that takes a list of words and an integer n and returns  the list of words that are longer than n."
   ]
  },
  {
   "cell_type": "code",
   "execution_count": 27,
   "metadata": {},
   "outputs": [
    {
     "data": {
      "text/plain": [
       "['AbcAbc', 'xyzxyz']"
      ]
     },
     "execution_count": 27,
     "metadata": {},
     "output_type": "execute_result"
    }
   ],
   "source": [
    "def filter_long_words(words_list, n):\n",
    "    lst = []\n",
    "    for word in words_list:\n",
    "        if len(word) > n:\n",
    "            lst.append(word)\n",
    "    return lst\n",
    "words_list = ['AbcAbc', 'Xyz', 'abc', 'xyzxyz']\n",
    "filter_long_words(words_list, 3)"
   ]
  },
  {
   "cell_type": "markdown",
   "metadata": {},
   "source": [
    "2.1 Write a Python program using function concept that maps list of words into a list of integers  representing the lengths of the corresponding words. \n",
    "Hint: If a list [ ab,cde,erty] is passed on to the python function output should come as [2,3,4] Here 2,3 and 4 are the lengths of the words in the list."
   ]
  },
  {
   "cell_type": "code",
   "execution_count": 30,
   "metadata": {},
   "outputs": [
    {
     "name": "stdout",
     "output_type": "stream",
     "text": [
      "[2, 3, 4]\n"
     ]
    }
   ],
   "source": [
    "lst = ['ab','cde','erty']\n",
    "lst_int = list(map(lambda x: len(x), lst))\n",
    "print(lst_int)"
   ]
  },
  {
   "cell_type": "markdown",
   "metadata": {},
   "source": [
    "2.2 Write a Python function which takes a character (i.e. a string of length 1) and returns True if  it is a vowel, False otherwise."
   ]
  },
  {
   "cell_type": "code",
   "execution_count": 32,
   "metadata": {},
   "outputs": [
    {
     "name": "stdout",
     "output_type": "stream",
     "text": [
      "True\n"
     ]
    }
   ],
   "source": [
    "def isVowel(char):\n",
    "    vowels = ['a', 'e', 'i', 'o', 'u']\n",
    "    if len(char) == 1:\n",
    "        if char.lower() in vowels:\n",
    "            return True\n",
    "    return False\n",
    "print(isVowel('A'))"
   ]
  },
  {
   "cell_type": "code",
   "execution_count": null,
   "metadata": {},
   "outputs": [],
   "source": []
  }
 ],
 "metadata": {
  "kernelspec": {
   "display_name": "Python 3",
   "language": "python",
   "name": "python3"
  },
  "language_info": {
   "codemirror_mode": {
    "name": "ipython",
    "version": 3
   },
   "file_extension": ".py",
   "mimetype": "text/x-python",
   "name": "python",
   "nbconvert_exporter": "python",
   "pygments_lexer": "ipython3",
   "version": "3.7.6"
  }
 },
 "nbformat": 4,
 "nbformat_minor": 4
}
