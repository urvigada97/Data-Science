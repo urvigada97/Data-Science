{
 "cells": [
  {
   "cell_type": "code",
   "execution_count": 29,
   "metadata": {},
   "outputs": [],
   "source": [
    "import numpy as np"
   ]
  },
  {
   "cell_type": "markdown",
   "metadata": {},
   "source": [
    "Problem Statement 1: \n",
    "Write a function so that the columns of the output matrix are powers of the input vector. \n",
    "The order of the powers is determined by the increasing boolean argument. Specifically, when  increasing is False, the i-th output column is the input vector raised element-wise to the power  of N - i - 1. \n",
    "HINT: Such a matrix with a geometric progression in each row is named for Alexandre Theophile Vandermonde."
   ]
  },
  {
   "cell_type": "code",
   "execution_count": 30,
   "metadata": {},
   "outputs": [
    {
     "name": "stdout",
     "output_type": "stream",
     "text": [
      "[[ 1.  1.  1.]\n",
      " [ 4.  2.  1.]\n",
      " [ 9.  3.  1.]\n",
      " [25.  5.  1.]]\n"
     ]
    }
   ],
   "source": [
    "def vanderFunction(arr, N=0):\n",
    "    if N == 0:\n",
    "        N = len(arr)\n",
    "    mat = np.zeros((len(arr), N))\n",
    "    for i in range(len(arr)):\n",
    "        for j in range(0, N):\n",
    "            mat[i, j] = arr[i]**(N-j-1)\n",
    "    return mat\n",
    "vanderMatrix = vanderFunction(np.array([1, 2, 3, 5]), 3)\n",
    "print(vanderMatrix)"
   ]
  },
  {
   "cell_type": "markdown",
   "metadata": {},
   "source": [
    "Problem Statement 2: Write a function to find moving average in an array over a window:  Test it over [3, 5, 7, 2, 8, 10, 11, 65, 72, 81, 99, 100, 150] and window of 3."
   ]
  },
  {
   "cell_type": "code",
   "execution_count": 31,
   "metadata": {},
   "outputs": [
    {
     "name": "stdout",
     "output_type": "stream",
     "text": [
      "Moving Average Sequence is: [5.0, 4.666666666666667, 5.666666666666667, 6.666666666666667, 9.666666666666666, 28.666666666666668, 49.333333333333336, 72.66666666666667, 84.0, 93.33333333333333, 116.33333333333333]\n"
     ]
    }
   ],
   "source": [
    "arr = np.array([3, 5, 7, 2, 8, 10, 11, 65, 72, 81, 99, 100, 150])\n",
    "def findMovingAverage(arr, window):\n",
    "    return [np.array(arr[i:i+window]).mean() for i in range(len(arr)-(window-1))]\n",
    "movingAverage = findMovingAverage(arr, 3)\n",
    "print('Moving Average Sequence is: {}'.format(movingAverage))"
   ]
  },
  {
   "cell_type": "code",
   "execution_count": null,
   "metadata": {},
   "outputs": [],
   "source": []
  }
 ],
 "metadata": {
  "kernelspec": {
   "display_name": "Python 3",
   "language": "python",
   "name": "python3"
  },
  "language_info": {
   "codemirror_mode": {
    "name": "ipython",
    "version": 3
   },
   "file_extension": ".py",
   "mimetype": "text/x-python",
   "name": "python",
   "nbconvert_exporter": "python",
   "pygments_lexer": "ipython3",
   "version": "3.7.6"
  }
 },
 "nbformat": 4,
 "nbformat_minor": 4
}
